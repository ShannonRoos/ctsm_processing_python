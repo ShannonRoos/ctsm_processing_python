{
 "cells": [
  {
   "cell_type": "code",
   "execution_count": 1,
   "id": "350df278-5ee4-427a-be49-b5d6ca8035b7",
   "metadata": {},
   "outputs": [],
   "source": [
    "import xarray as xr\n",
    "import numpy as np"
   ]
  },
  {
   "cell_type": "markdown",
   "id": "f8adcf3e-01b7-4eb7-9bcc-8690100b4b8b",
   "metadata": {},
   "source": [
    "#### function to regrid CCI landcover masks for agriculture to GLASS LAI, keeping track of crop percentages within larger gridcells"
   ]
  },
  {
   "cell_type": "markdown",
   "id": "52e6ba87-ef3b-4073-85a1-354511cbb1c2",
   "metadata": {},
   "source": [
    "##### Because the gridcells of ESA CCI and GLASS are aligned, i.e. GLASS LAI lat/lon is 18 times the lat/lon size of ESA CCI  landcover, we can use the coarsen method to aggregate the gridcells. Both datasets have the center of the gridcell as reference coordinate."
   ]
  },
  {
   "cell_type": "code",
   "execution_count": 2,
   "id": "a5af887d-9071-44cf-952a-e4317f0b6d58",
   "metadata": {},
   "outputs": [],
   "source": [
    "# user settings\n",
    "years   = np.arange(1992,2015)\n",
    "basedir = f'/base/dir/'"
   ]
  },
  {
   "cell_type": "code",
   "execution_count": 3,
   "id": "451ceef9-c2d6-485b-a35f-94dc00971390",
   "metadata": {},
   "outputs": [],
   "source": [
    "def CCI_regrid_GLASS_agri(cci_ds, glass_ds):\n",
    "    ''' function to aggregate cci agricultural classes to glass lat/lon.\n",
    "        The ouput masks contain coverage (%) of the seperate agricultural classes.'''\n",
    "    \n",
    "    lat_refactor    =  int(len(cci_ds.lat.values)/len(glass_ds.lat.values))\n",
    "    lon_refactor    =  int(len(cci_ds.lon.values)/len(glass_ds.lon.values))\n",
    "    total_grids     = lat_refactor * lon_refactor\n",
    "\n",
    "    cci_class_lib   = {'cropland_rainfed': 10, 'cropland_herbs':11, 'cropland_irrigated':20}\n",
    "\n",
    "    #mask\n",
    "    #rainfed_mask    = xr.where(lccs_class == cci_class_lib['cropland_rainfed'],1,0)\n",
    "    rainfed_classes = [cci_class_lib['cropland_rainfed'], cci_class_lib['cropland_herbs']]\n",
    "    rainfed_mask = xr.where(lccs_class.isin(rainfed_classes), 1, 0)\n",
    "    irrigated_mask  = xr.where(lccs_class == cci_class_lib['cropland_irrigated'],1,0)\n",
    "\n",
    "    #regrid\n",
    "    rainfed_mask_coarse   = rainfed_mask.coarsen(lat=lat_refactor, lon=lon_refactor, boundary='trim').sum()\n",
    "    irrigated_mask_coarse = irrigated_mask.coarsen(lat=lat_refactor, lon=lon_refactor, boundary='trim').sum()\n",
    "\n",
    "    # get percentage and output to netcdf\n",
    "    rainfed_mask_percentage = ((rainfed_mask_coarse / total_grids) * 100).round(1)\n",
    "    irrigated_mask_percentage = ((irrigated_mask_coarse / total_grids) * 100).round(1)\n",
    "    total_agriculture_percentage = rainfed_mask_percentage + irrigated_mask_percentage\n",
    "\n",
    "    # Combine into a dataset\n",
    "    agriculture_mask = xr.Dataset({\n",
    "        \"rainfed\": rainfed_mask_percentage,\n",
    "        \"irrigated\": irrigated_mask_percentage,\n",
    "        \"total\": total_agriculture_percentage,\n",
    "    })\n",
    "    \n",
    "    # Optionally add metadata\n",
    "    agriculture_mask.rainfed.attrs[\"long_name\"] = \"Rainfed agriculture percentage\"\n",
    "    agriculture_mask.irrigated.attrs[\"long_name\"] = \"Irrigated agriculture percentage\"\n",
    "    agriculture_mask.total.attrs[\"long_name\"] = \"Total agriculture percentage\"\n",
    "    \n",
    "    return agriculture_mask"
   ]
  },
  {
   "cell_type": "code",
   "execution_count": 4,
   "id": "efdfbf6a-b85c-4e54-9e42-caec01174ade",
   "metadata": {},
   "outputs": [],
   "source": [
    "def CCI_regrid_GLASS_nonveg(cci_ds, glass_ds):\n",
    "    ''' function to aggregate cci non vegetated classes to glass lat/lon.\n",
    "        The ouput masks contain coverage (%) of the seperate classes.'''\n",
    "    \n",
    "    lat_refactor  =  int(len(cci_ds.lat.values)/len(glass_ds.lat.values))\n",
    "    lon_refactor  =  int(len(cci_ds.lon.values)/len(glass_ds.lon.values))\n",
    "    total_grids   = lat_refactor * lon_refactor\n",
    "\n",
    "    cci_class_lib = {'urban':190, 'water':210}\n",
    "\n",
    "    #mask\n",
    "    water_mask    = xr.where(lccs_class == cci_class_lib['water'],1,0)\n",
    "    urban_mask    = xr.where(lccs_class == cci_class_lib['urban'],1,0)\n",
    "\n",
    "    #regrid\n",
    "    water_mask_coarse = water_mask.coarsen(lat=lat_refactor, lon=lon_refactor, boundary='trim').sum()\n",
    "    urban_mask_coarse = urban_mask.coarsen(lat=lat_refactor, lon=lon_refactor, boundary='trim').sum()\n",
    "\n",
    "    # get percentage and output to netcdf\n",
    "    water_mask_percentage = ((water_mask_coarse / total_grids) * 100).round(1)\n",
    "    urban_mask_percentage = ((urban_mask_coarse / total_grids) * 100).round(1)\n",
    "\n",
    "    # Combine into a dataset\n",
    "    nonveg_mask = xr.Dataset({\n",
    "        \"water\": water_mask_percentage,\n",
    "        \"urban\": urban_mask_percentage\n",
    "    })\n",
    "    \n",
    "    # Optionally add metadata\n",
    "    nonveg_mask.water.attrs[\"long_name\"] = \"water bodies percentage\"\n",
    "    nonveg_mask.urban.attrs[\"long_name\"] = \"urban areas percentage\"\n",
    "    \n",
    "    return nonveg_mask"
   ]
  },
  {
   "cell_type": "code",
   "execution_count": null,
   "id": "5d5fcb42-7b17-470e-a8bc-e3ccdc9a26e8",
   "metadata": {},
   "outputs": [],
   "source": [
    "# apply masks function, loop over datasets\n",
    "for year in years:\n",
    "    esa_cci_landcover = xr.open_dataset(f'{basedir}LAI_data/landcover_esa_cci_300m/ESACCI-LC-L4-LCCS-Map-300m-P1Y-{year}-v2.0.7cds.nc')\n",
    "    lccs_class        = esa_cci_landcover['lccs_class']\n",
    "    glass_lai_grid    = xr.open_dataset(f'{basedir}LAI_data/GLASS_LAI_netcdf/LAI_{year}.nc')\n",
    "    nc_mask           = CCI_regrid_GLASS_agri(lccs_class, glass_lai_grid)\n",
    "    \n",
    "    # Save to NetCDF\n",
    "    nc_mask.to_netcdf(f'{basedir}LAI_data/agriculture_mask_{year}.nc')"
   ]
  }
 ],
 "metadata": {
  "kernelspec": {
   "display_name": "Python 3 (ipykernel)",
   "language": "python",
   "name": "python3"
  },
  "language_info": {
   "codemirror_mode": {
    "name": "ipython",
    "version": 3
   },
   "file_extension": ".py",
   "mimetype": "text/x-python",
   "name": "python",
   "nbconvert_exporter": "python",
   "pygments_lexer": "ipython3",
   "version": "3.11.3"
  }
 },
 "nbformat": 4,
 "nbformat_minor": 5
}
